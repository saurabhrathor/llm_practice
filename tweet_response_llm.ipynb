{
 "cells": [
  {
   "cell_type": "code",
   "execution_count": 1,
   "id": "da0127ab-e567-4da0-be60-efc99c8aead5",
   "metadata": {},
   "outputs": [
    {
     "name": "stdout",
     "output_type": "stream",
     "text": [
      "Requirement already satisfied: transformers in c:\\users\\rathosau\\appdata\\local\\programs\\python\\python311\\lib\\site-packages (4.33.2)\n",
      "Requirement already satisfied: filelock in c:\\users\\rathosau\\appdata\\local\\programs\\python\\python311\\lib\\site-packages (from transformers) (3.12.3)\n",
      "Requirement already satisfied: huggingface-hub<1.0,>=0.15.1 in c:\\users\\rathosau\\appdata\\local\\programs\\python\\python311\\lib\\site-packages (from transformers) (0.17.1)\n",
      "Requirement already satisfied: numpy>=1.17 in c:\\users\\rathosau\\appdata\\local\\programs\\python\\python311\\lib\\site-packages (from transformers) (1.24.3)\n",
      "Requirement already satisfied: packaging>=20.0 in c:\\users\\rathosau\\appdata\\local\\programs\\python\\python311\\lib\\site-packages (from transformers) (23.1)\n",
      "Requirement already satisfied: pyyaml>=5.1 in c:\\users\\rathosau\\appdata\\local\\programs\\python\\python311\\lib\\site-packages (from transformers) (6.0)\n",
      "Requirement already satisfied: regex!=2019.12.17 in c:\\users\\rathosau\\appdata\\local\\programs\\python\\python311\\lib\\site-packages (from transformers) (2023.8.8)\n",
      "Requirement already satisfied: requests in c:\\users\\rathosau\\appdata\\local\\programs\\python\\python311\\lib\\site-packages (from transformers) (2.31.0)\n",
      "Requirement already satisfied: tokenizers!=0.11.3,<0.14,>=0.11.1 in c:\\users\\rathosau\\appdata\\local\\programs\\python\\python311\\lib\\site-packages (from transformers) (0.13.3)\n",
      "Requirement already satisfied: safetensors>=0.3.1 in c:\\users\\rathosau\\appdata\\local\\programs\\python\\python311\\lib\\site-packages (from transformers) (0.3.3)\n",
      "Requirement already satisfied: tqdm>=4.27 in c:\\users\\rathosau\\appdata\\local\\programs\\python\\python311\\lib\\site-packages (from transformers) (4.66.1)\n",
      "Requirement already satisfied: fsspec in c:\\users\\rathosau\\appdata\\local\\programs\\python\\python311\\lib\\site-packages (from huggingface-hub<1.0,>=0.15.1->transformers) (2023.6.0)\n",
      "Requirement already satisfied: typing-extensions>=3.7.4.3 in c:\\users\\rathosau\\appdata\\local\\programs\\python\\python311\\lib\\site-packages (from huggingface-hub<1.0,>=0.15.1->transformers) (4.5.0)\n",
      "Requirement already satisfied: colorama in c:\\users\\rathosau\\appdata\\local\\programs\\python\\python311\\lib\\site-packages (from tqdm>=4.27->transformers) (0.4.6)\n",
      "Requirement already satisfied: charset-normalizer<4,>=2 in c:\\users\\rathosau\\appdata\\local\\programs\\python\\python311\\lib\\site-packages (from requests->transformers) (3.1.0)\n",
      "Requirement already satisfied: idna<4,>=2.5 in c:\\users\\rathosau\\appdata\\local\\programs\\python\\python311\\lib\\site-packages (from requests->transformers) (3.4)\n",
      "Requirement already satisfied: urllib3<3,>=1.21.1 in c:\\users\\rathosau\\appdata\\local\\programs\\python\\python311\\lib\\site-packages (from requests->transformers) (1.26.16)\n",
      "Requirement already satisfied: certifi>=2017.4.17 in c:\\users\\rathosau\\appdata\\local\\programs\\python\\python311\\lib\\site-packages (from requests->transformers) (2023.5.7)\n",
      "Note: you may need to restart the kernel to use updated packages.\n"
     ]
    },
    {
     "name": "stderr",
     "output_type": "stream",
     "text": [
      "\n",
      "[notice] A new release of pip is available: 23.2.1 -> 23.3\n",
      "[notice] To update, run: python.exe -m pip install --upgrade pip\n"
     ]
    }
   ],
   "source": [
    "%pip install transformers"
   ]
  },
  {
   "cell_type": "code",
   "execution_count": 2,
   "id": "8cfeddde-34e0-4513-89db-5491c460f494",
   "metadata": {},
   "outputs": [],
   "source": [
    "review = \"vos chaussures ne valent pas leur prix et ne sont même pas confortables\""
   ]
  },
  {
   "cell_type": "code",
   "execution_count": 4,
   "id": "93294ea5-6b75-4a67-b523-0853dd7770ac",
   "metadata": {},
   "outputs": [
    {
     "name": "stderr",
     "output_type": "stream",
     "text": [
      "C:\\Users\\rathosau\\AppData\\Local\\Programs\\Python\\Python311\\Lib\\site-packages\\tqdm\\auto.py:21: TqdmWarning: IProgress not found. Please update jupyter and ipywidgets. See https://ipywidgets.readthedocs.io/en/stable/user_install.html\n",
      "  from .autonotebook import tqdm as notebook_tqdm\n"
     ]
    }
   ],
   "source": [
    "from transformers import pipeline\n",
    "identify_pipe = pipeline(\"text-classification\", model=\"papluca/xlm-roberta-base-language-detection\")"
   ]
  },
  {
   "cell_type": "code",
   "execution_count": null,
   "id": "cda2f7a6-0d0f-4f1c-b284-a02d5c9b1c43",
   "metadata": {},
   "outputs": [],
   "source": []
  },
  {
   "cell_type": "code",
   "execution_count": 11,
   "id": "4660b40b-1b90-46bb-9f3a-86500619c5ea",
   "metadata": {},
   "outputs": [],
   "source": [
    "# Language Detection"
   ]
  },
  {
   "cell_type": "code",
   "execution_count": 12,
   "id": "0b0cb776-6a6e-4384-9951-6c2bbea92206",
   "metadata": {},
   "outputs": [
    {
     "name": "stdout",
     "output_type": "stream",
     "text": [
      "Detected language:  fr\n",
      "Detected score:  0.9917982816696167\n"
     ]
    }
   ],
   "source": [
    "detection_result = identify_pipe(review)\n",
    "language_detected = detection_result[0]['label']\n",
    "language_score = detection_result[0]['score']\n",
    "\n",
    "print(\"Detected language: \", language_detected)\n",
    "print(\"Detected score: \", language_score)"
   ]
  },
  {
   "cell_type": "code",
   "execution_count": null,
   "id": "0e38c029-5b27-4baf-a8c5-873495990934",
   "metadata": {},
   "outputs": [],
   "source": []
  },
  {
   "cell_type": "code",
   "execution_count": 10,
   "id": "8089b5d9-cc65-4480-a750-8e294a731c6c",
   "metadata": {},
   "outputs": [],
   "source": [
    "# Language Translation"
   ]
  },
  {
   "cell_type": "code",
   "execution_count": 7,
   "id": "7210eab8-63db-4f9f-a064-7c69b38dd5a8",
   "metadata": {},
   "outputs": [
    {
     "data": {
      "text/plain": [
       "'your shoes are not worth their price and are not even comfortable'"
      ]
     },
     "execution_count": 7,
     "metadata": {},
     "output_type": "execute_result"
    }
   ],
   "source": [
    "# https://huggingface.co/Helsinki-NLP/opus-mt-fr-en?text=Mon+nom+est+Wolfgang+et+je+vis+%C3%A0+Berlin\n",
    "translation_model = \"Helsinki-NLP/opus-mt-\" + language_detected + \"-en\"\n",
    "translation_pipe = pipeline(\"translation\", model=translation_model)\n",
    "translated_text = translation_pipe(review)[0]['translation_text']\n",
    "translated_text"
   ]
  },
  {
   "cell_type": "code",
   "execution_count": null,
   "id": "9f3a0ee5-cec4-4474-aaf4-3e57707445e6",
   "metadata": {},
   "outputs": [],
   "source": []
  },
  {
   "cell_type": "code",
   "execution_count": 9,
   "id": "c57c4b4a-1486-4bbf-a36c-251d151ceba2",
   "metadata": {},
   "outputs": [],
   "source": [
    "# Intent Generation and Response"
   ]
  },
  {
   "cell_type": "code",
   "execution_count": 8,
   "id": "8b41f96d-3380-4892-bf5f-882dcd33d32e",
   "metadata": {},
   "outputs": [
    {
     "name": "stdout",
     "output_type": "stream",
     "text": [
      "Thanks for your valuable feedback about our shoes . We will work on it\n"
     ]
    }
   ],
   "source": [
    "classifier = pipeline(\"zero-shot-classification\", model=\"MoritzLaurer/deberta-v3-base-zeroshot-v1\")\n",
    "sequence_to_classify = translated_text\n",
    "sentiment_labels = [\"positive\", \"negative\", \"neutral\"]\n",
    "candidate_labels = [\"shoes\", \"apparel\", \"quality\", \"price\", \"service\"]\n",
    "output_sentiment = classifier(sequence_to_classify, sentiment_labels, multi_label=False)\n",
    "output_candidate = classifier(sequence_to_classify, candidate_labels, multi_label=False)\n",
    "#print(output_sentiment)\n",
    "#print(output_candidate)\n",
    "label = output_candidate['labels'][0]\n",
    "sentiment = output_sentiment['labels'][0]\n",
    "\n",
    "if sentiment == \"positive\":\n",
    "    print(\"Thanks for your valuable feedback about our\", label)\n",
    "else:\n",
    "    print(\"Thanks for your valuable feedback about our\", label, \". We will work on it\")"
   ]
  },
  {
   "cell_type": "code",
   "execution_count": null,
   "id": "70e08944-74b1-46d9-85b3-195ab1daeb8f",
   "metadata": {},
   "outputs": [],
   "source": []
  }
 ],
 "metadata": {
  "kernelspec": {
   "display_name": "Python 3 (ipykernel)",
   "language": "python",
   "name": "python3"
  },
  "language_info": {
   "codemirror_mode": {
    "name": "ipython",
    "version": 3
   },
   "file_extension": ".py",
   "mimetype": "text/x-python",
   "name": "python",
   "nbconvert_exporter": "python",
   "pygments_lexer": "ipython3",
   "version": "3.11.4"
  }
 },
 "nbformat": 4,
 "nbformat_minor": 5
}
